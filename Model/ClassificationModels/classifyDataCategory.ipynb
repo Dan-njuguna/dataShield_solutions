{
 "cells": [
  {
   "cell_type": "code",
   "execution_count": null,
   "metadata": {},
   "outputs": [],
   "source": [
    "import torch as th\n",
    "import transformers as tr\n",
    "from transformers import AutoTokenizer, AutoModelForSequenceClassification\n",
    "import numpy as np\n",
    "import pandas as pd\n",
    "from sklearn.model_selection import train_test_split\n",
    "from torch.utils.data import Dataset\n",
    "import os"
   ]
  },
  {
   "cell_type": "code",
   "execution_count": null,
   "metadata": {},
   "outputs": [],
   "source": [
    "import sys\n",
    "print(sys.version)"
   ]
  },
  {
   "cell_type": "code",
   "execution_count": null,
   "metadata": {
    "vscode": {
     "languageId": "javascript"
    }
   },
   "outputs": [],
   "source": [
    "datasets_path = '../Datasets/'\n",
    "gdpr_path = datasets_path + 'gdpr4.csv'\n",
    "gdpr = pd.read_csv(gdpr_path)\n",
    "gdpr.head()"
   ]
  },
  {
   "cell_type": "code",
   "execution_count": null,
   "metadata": {
    "vscode": {
     "languageId": "javascript"
    }
   },
   "outputs": [],
   "source": [
    "gdpr.isna().sum()"
   ]
  },
  {
   "cell_type": "code",
   "execution_count": null,
   "metadata": {
    "vscode": {
     "languageId": "javascript"
    }
   },
   "outputs": [],
   "source": [
    "gdpr = gdpr.drop(columns=[\"Unnamed: 4\", \"Recitals\"], axis=1)\n",
    "gdpr.head()"
   ]
  },
  {
   "cell_type": "code",
   "execution_count": null,
   "metadata": {
    "vscode": {
     "languageId": "javascript"
    }
   },
   "outputs": [],
   "source": [
    "gdpr.isna().sum()"
   ]
  },
  {
   "cell_type": "code",
   "execution_count": null,
   "metadata": {
    "vscode": {
     "languageId": "javascript"
    }
   },
   "outputs": [],
   "source": [
    "gdpr[\"input_text\"] = gdpr[\"Category\"] + \" \" + gdpr[\"Description\"] + \" \" + gdpr[\"GDPR Articles\"]\n",
    "gdpr.head()"
   ]
  },
  {
   "cell_type": "code",
   "execution_count": null,
   "metadata": {
    "vscode": {
     "languageId": "javascript"
    }
   },
   "outputs": [],
   "source": [
    "training_data = gdpr[[\"input_text\"]]\n",
    "training_data"
   ]
  },
  {
   "cell_type": "code",
   "execution_count": null,
   "metadata": {},
   "outputs": [],
   "source": [
    "training_data_copy = training_data.copy()\n",
    "training_data_copy['input_text'] = training_data_copy['input_text'].str.replace(r'\\(\\)', '', regex=True)\n",
    "training_data_copy['input_text'] = training_data_copy['input_text'].str.replace(r'\\s+', ' ', regex=True).str.strip()\n",
    "training_data_copy"
   ]
  },
  {
   "cell_type": "code",
   "execution_count": null,
   "metadata": {
    "vscode": {
     "languageId": "javascript"
    }
   },
   "outputs": [],
   "source": [
    "training_data.to_csv('../Datasets/gdpr4_training_data.csv', index=False)\n",
    "training_data.head()"
   ]
  },
  {
   "cell_type": "code",
   "execution_count": null,
   "metadata": {},
   "outputs": [],
   "source": [
    "from transformers import BertTokenizer, BertForSequenceClassification, Trainer, TrainingArguments\n",
    "\n",
    "tokenizer = BertTokenizer.from_pretrained('bert-base-uncased')\n",
    "\n",
    "train_data, test_data = train_test_split(training_data, test_size=0.2, random_state=42)\n",
    "train_data, val_data = train_test_split(train_data, test_size=0.1, random_state=42)\n",
    "\n",
    "def tokenize_data(df: pd.DataFrame, tokenizer: tr.PreTrainedTokenizer, max_length: int = 128) -> pd.DataFrame:\n",
    "    return tokenizer(\n",
    "        df[\"input_text\"].tolist(),\n",
    "        padding=True,\n",
    "        truncation=True,\n",
    "        max_length=max_length,\n",
    "        return_tensors=\"pt\"\n",
    "    )\n",
    "\n",
    "train_encoding = tokenize_data(train_data, tokenizer)\n",
    "val_encoding = tokenize_data(val_data, tokenizer)\n",
    "test_encoding = tokenize_data(test_data, tokenizer)\n",
    "train_encoding.keys()\n"
   ]
  },
  {
   "cell_type": "code",
   "execution_count": null,
   "metadata": {},
   "outputs": [],
   "source": [
    "label_map = {label: idx for idx, label in enumerate(gdpr[\"Category\"].unique())}\n",
    "\n",
    "# Map the Category column to labels\n",
    "train_data[\"labels\"] = train_data[\"input_text\"].apply(lambda x: label_map.get(x.split()[0], -1))\n",
    "val_data[\"labels\"] = val_data[\"input_text\"].apply(lambda x: label_map.get(x.split()[0], -1))\n",
    "test_data[\"labels\"] = test_data[\"input_text\"].apply(lambda x: label_map.get(x.split()[0], -1))\n",
    "\n",
    "# Ensure there are no -1 labels (which indicate missing categories)\n",
    "train_data = train_data[train_data[\"labels\"] != -1]\n",
    "val_data = val_data[val_data[\"labels\"] != -1]\n",
    "test_data = test_data[test_data[\"labels\"] != -1]\n",
    "\n",
    "# Convert labels to numpy arrays\n",
    "training_labels = train_data[\"labels\"].values\n",
    "val_labels = val_data[\"labels\"].values\n",
    "test_data_labels = test_data[\"labels\"].values\n",
    "\n",
    "\n",
    "class TextClassificationDataSet(Dataset):\n",
    "    def __init__(self, encodings, labels):\n",
    "        self.encodings = encodings\n",
    "        self.labels = labels\n",
    "\n",
    "    def __getitem__(self, idx):\n",
    "        item = {key: th.tensor(val[idx]) for key, val in self.encodings.items()}\n",
    "        item[\"labels\"] = th.tensor(self.labels[idx])\n",
    "        return item\n",
    "\n",
    "    def __len__(self):\n",
    "        return len(self.labels)\n",
    "    \n",
    "# Update the datasets with the new labels\n",
    "train_dataset = TextClassificationDataSet(train_encoding, training_labels)\n",
    "val_dataset = TextClassificationDataSet(val_encoding, val_labels)\n",
    "test_dataset = TextClassificationDataSet(test_encoding, test_data_labels)\n",
    "\n",
    "\n",
    "model = BertForSequenceClassification.from_pretrained('bert-base-uncased', num_labels=len(label_map))\n",
    "\n",
    "training_args = TrainingArguments(\n",
    "    output_dir='./results',\n",
    "    num_train_epochs=5,\n",
    "    per_device_train_batch_size=16,\n",
    "    per_device_eval_batch_size=16,\n",
    "    warmup_steps=500,\n",
    "    weight_decay=0.01,\n",
    "    logging_dir='./logs',\n",
    "    logging_steps=10,\n",
    "    eval_strategy=\"steps\",\n",
    "    eval_steps=10,\n",
    "    save_steps=10,\n",
    "    save_total_limit=2,\n",
    ")\n",
    "\n",
    "# initialize the trainer\n",
    "trainer = Trainer(\n",
    "    model=model,\n",
    "    args=training_args,\n",
    "    train_dataset=train_dataset,\n",
    "    eval_dataset=val_dataset\n",
    ")\n",
    "\n",
    "trainer.train()"
   ]
  },
  {
   "cell_type": "code",
   "execution_count": null,
   "metadata": {},
   "outputs": [],
   "source": [
    "trainer.evaluate()"
   ]
  },
  {
   "cell_type": "code",
   "execution_count": null,
   "metadata": {},
   "outputs": [],
   "source": []
  }
 ],
 "metadata": {
  "kernelspec": {
   "display_name": "env",
   "language": "python",
   "name": "python3"
  },
  "language_info": {
   "codemirror_mode": {
    "name": "ipython",
    "version": 3
   },
   "file_extension": ".py",
   "mimetype": "text/x-python",
   "name": "python",
   "nbconvert_exporter": "python",
   "pygments_lexer": "ipython3",
   "version": "3.12.3"
  }
 },
 "nbformat": 4,
 "nbformat_minor": 2
}
