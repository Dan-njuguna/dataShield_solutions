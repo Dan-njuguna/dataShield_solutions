{
 "cells": [
  {
   "cell_type": "code",
   "execution_count": 1,
   "metadata": {},
   "outputs": [
    {
     "name": "stderr",
     "output_type": "stream",
     "text": [
      "UsageError: Cell magic `%%writescript` not found.\n"
     ]
    }
   ],
   "source": [
    "%%writescript  data_preprocesing.py\n",
    "\n",
    "import pandas as pd\n",
    "import numpy as np\n",
    "#import my asyncio main function from pipeline_kfk\n",
    "from pipeline_kfk import main\n",
    "#from pipeline_kfk import main()\n",
    "from sklearn.pipeline import Pipeline\n",
    "import asyncpg\n",
    "import asyncio\n",
    "\n",
    "\n",
    "def access_data_from_script():\n",
    "    \"\"\"\n",
    "    This function is used to fetch the asyncio main function from pipeline_kfk python script \n",
    "    It should then use the fetched data to create a pandas dataframe which should be used in model training\n",
    "    :return: None\n",
    "    \"\"\"\n",
    "    data= asyncio.run(main())\n",
    "    dataf=pd.DataFrame(data)\n",
    "    return dataf\n",
    "\n",
    "\n",
    "\n",
    "\n",
    "data=access_data_from_script()\n",
    "\n",
    "\n",
    "#set the data\n",
    "data= asyncio.main()\n",
    "#print(data.head())\n",
    "dataf=pd.DataFrame(data)\n",
    "dataf.head()"
   ]
  },
  {
   "cell_type": "code",
   "execution_count": null,
   "metadata": {},
   "outputs": [],
   "source": []
  }
 ],
 "metadata": {
  "kernelspec": {
   "display_name": "Python 3",
   "language": "python",
   "name": "python3"
  },
  "language_info": {
   "codemirror_mode": {
    "name": "ipython",
    "version": 3
   },
   "file_extension": ".py",
   "mimetype": "text/x-python",
   "name": "python",
   "nbconvert_exporter": "python",
   "pygments_lexer": "ipython3",
   "version": "3.12.3"
  }
 },
 "nbformat": 4,
 "nbformat_minor": 2
}
